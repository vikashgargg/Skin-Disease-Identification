{
 "cells": [
  {
   "cell_type": "markdown",
   "metadata": {},
   "source": [
    "# SKIN DISEASE IDENTIFICATION USING IMAGE ANALYSIS"
   ]
  },
  {
   "cell_type": "code",
   "execution_count": 1,
   "metadata": {},
   "outputs": [
    {
     "name": "stderr",
     "output_type": "stream",
     "text": [
      "Using TensorFlow backend.\n"
     ]
    }
   ],
   "source": [
    "from keras.models import Sequential\n",
    "from keras.layers import Dense\n",
    "from keras.layers import Convolution2D\n",
    "from keras.layers import MaxPooling2D\n",
    "from keras.layers import Flatten"
   ]
  },
  {
   "cell_type": "code",
   "execution_count": 2,
   "metadata": {},
   "outputs": [],
   "source": [
    "model = Sequential()"
   ]
  },
  {
   "cell_type": "markdown",
   "metadata": {},
   "source": [
    "Adding Convolutional layers"
   ]
  },
  {
   "cell_type": "code",
   "execution_count": 3,
   "metadata": {},
   "outputs": [],
   "source": [
    "model.add(Convolution2D(32,(3,3),input_shape = (64,64,3), activation = 'relu'))"
   ]
  },
  {
   "cell_type": "code",
   "execution_count": 4,
   "metadata": {},
   "outputs": [],
   "source": [
    "model.add(Convolution2D(32,(3,3),input_shape = (64,64,3), activation = 'relu'))"
   ]
  },
  {
   "cell_type": "markdown",
   "metadata": {},
   "source": [
    "Adding Maxpooling layer"
   ]
  },
  {
   "cell_type": "code",
   "execution_count": 5,
   "metadata": {},
   "outputs": [],
   "source": [
    "model.add(MaxPooling2D(pool_size = (2,2)))"
   ]
  },
  {
   "cell_type": "markdown",
   "metadata": {},
   "source": [
    "Add flattening layer"
   ]
  },
  {
   "cell_type": "code",
   "execution_count": 6,
   "metadata": {},
   "outputs": [],
   "source": [
    "model.add(Flatten())"
   ]
  },
  {
   "cell_type": "code",
   "execution_count": 7,
   "metadata": {},
   "outputs": [
    {
     "name": "stdout",
     "output_type": "stream",
     "text": [
      "Model: \"sequential_1\"\n",
      "_________________________________________________________________\n",
      "Layer (type)                 Output Shape              Param #   \n",
      "=================================================================\n",
      "conv2d_1 (Conv2D)            (None, 62, 62, 32)        896       \n",
      "_________________________________________________________________\n",
      "conv2d_2 (Conv2D)            (None, 60, 60, 32)        9248      \n",
      "_________________________________________________________________\n",
      "max_pooling2d_1 (MaxPooling2 (None, 30, 30, 32)        0         \n",
      "_________________________________________________________________\n",
      "flatten_1 (Flatten)          (None, 28800)             0         \n",
      "=================================================================\n",
      "Total params: 10,144\n",
      "Trainable params: 10,144\n",
      "Non-trainable params: 0\n",
      "_________________________________________________________________\n"
     ]
    }
   ],
   "source": [
    "model.summary()"
   ]
  },
  {
   "cell_type": "markdown",
   "metadata": {},
   "source": [
    "Adding hidden layers"
   ]
  },
  {
   "cell_type": "code",
   "execution_count": 8,
   "metadata": {},
   "outputs": [
    {
     "name": "stderr",
     "output_type": "stream",
     "text": [
      "c:\\users\\mngup\\appdata\\local\\programs\\python\\python37\\lib\\site-packages\\ipykernel_launcher.py:1: UserWarning: Update your `Dense` call to the Keras 2 API: `Dense(activation=\"relu\", units=128, kernel_initializer=\"uniform\")`\n",
      "  \"\"\"Entry point for launching an IPython kernel.\n"
     ]
    }
   ],
   "source": [
    "model.add(Dense(output_dim = 128, init = 'uniform', activation = 'relu'))"
   ]
  },
  {
   "cell_type": "code",
   "execution_count": 9,
   "metadata": {},
   "outputs": [
    {
     "name": "stderr",
     "output_type": "stream",
     "text": [
      "c:\\users\\mngup\\appdata\\local\\programs\\python\\python37\\lib\\site-packages\\ipykernel_launcher.py:1: UserWarning: Update your `Dense` call to the Keras 2 API: `Dense(activation=\"relu\", units=128, kernel_initializer=\"uniform\")`\n",
      "  \"\"\"Entry point for launching an IPython kernel.\n"
     ]
    }
   ],
   "source": [
    "model.add(Dense(output_dim = 128, init = 'uniform', activation = 'relu'))"
   ]
  },
  {
   "cell_type": "code",
   "execution_count": 10,
   "metadata": {},
   "outputs": [
    {
     "name": "stderr",
     "output_type": "stream",
     "text": [
      "c:\\users\\mngup\\appdata\\local\\programs\\python\\python37\\lib\\site-packages\\ipykernel_launcher.py:1: UserWarning: Update your `Dense` call to the Keras 2 API: `Dense(activation=\"relu\", units=64, kernel_initializer=\"uniform\")`\n",
      "  \"\"\"Entry point for launching an IPython kernel.\n"
     ]
    }
   ],
   "source": [
    "model.add(Dense(output_dim = 64, init = 'uniform', activation = 'relu'))"
   ]
  },
  {
   "cell_type": "code",
   "execution_count": 11,
   "metadata": {},
   "outputs": [
    {
     "name": "stderr",
     "output_type": "stream",
     "text": [
      "c:\\users\\mngup\\appdata\\local\\programs\\python\\python37\\lib\\site-packages\\ipykernel_launcher.py:1: UserWarning: Update your `Dense` call to the Keras 2 API: `Dense(activation=\"relu\", units=64, kernel_initializer=\"uniform\")`\n",
      "  \"\"\"Entry point for launching an IPython kernel.\n"
     ]
    }
   ],
   "source": [
    "model.add(Dense(output_dim = 64, init = 'uniform', activation = 'relu'))"
   ]
  },
  {
   "cell_type": "markdown",
   "metadata": {},
   "source": [
    "Adding Output layer"
   ]
  },
  {
   "cell_type": "code",
   "execution_count": 12,
   "metadata": {},
   "outputs": [
    {
     "name": "stderr",
     "output_type": "stream",
     "text": [
      "c:\\users\\mngup\\appdata\\local\\programs\\python\\python37\\lib\\site-packages\\ipykernel_launcher.py:1: UserWarning: Update your `Dense` call to the Keras 2 API: `Dense(activation=\"softmax\", units=6, kernel_initializer=\"uniform\")`\n",
      "  \"\"\"Entry point for launching an IPython kernel.\n"
     ]
    }
   ],
   "source": [
    "model.add(Dense(output_dim = 6, init = 'uniform', activation = 'softmax')) "
   ]
  },
  {
   "cell_type": "markdown",
   "metadata": {},
   "source": [
    "Preprocessing the data"
   ]
  },
  {
   "cell_type": "code",
   "execution_count": 13,
   "metadata": {},
   "outputs": [],
   "source": [
    "from keras.preprocessing.image import ImageDataGenerator"
   ]
  },
  {
   "cell_type": "code",
   "execution_count": 14,
   "metadata": {},
   "outputs": [],
   "source": [
    "train_datagen = ImageDataGenerator(rescale = 1./255, shear_range = 0.2, zoom_range = 0.2, height_shift_range = 0.2, width_shift_range = 0.2, horizontal_flip = True, vertical_flip = True)\n",
    "test_datagen = ImageDataGenerator(rescale = 1)"
   ]
  },
  {
   "cell_type": "markdown",
   "metadata": {},
   "source": [
    "Loading the train and test data"
   ]
  },
  {
   "cell_type": "code",
   "execution_count": 15,
   "metadata": {},
   "outputs": [
    {
     "name": "stdout",
     "output_type": "stream",
     "text": [
      "Found 2301 images belonging to 6 classes.\n",
      "Found 646 images belonging to 6 classes.\n"
     ]
    }
   ],
   "source": [
    "x_train = train_datagen.flow_from_directory(r'C:\\Users\\mngup\\OneDrive\\Desktop\\skin disease - Copy\\Skin Diseases\\Skin Diseases\\train', target_size = (64, 64), batch_size = 32, class_mode = 'categorical')\n",
    "x_test = test_datagen.flow_from_directory(r'C:\\Users\\mngup\\OneDrive\\Desktop\\skin disease - Copy\\Skin Diseases\\Skin Diseases\\test', target_size = (64, 64), batch_size = 32, class_mode = 'categorical')"
   ]
  },
  {
   "cell_type": "code",
   "execution_count": 16,
   "metadata": {},
   "outputs": [
    {
     "data": {
      "text/plain": [
       "{'Acne': 0,\n",
       " 'Eczema': 1,\n",
       " 'Melanoma': 2,\n",
       " 'Psoriasis': 3,\n",
       " 'Rosacea': 4,\n",
       " 'Vitiligo': 5}"
      ]
     },
     "execution_count": 16,
     "metadata": {},
     "output_type": "execute_result"
    }
   ],
   "source": [
    "x_train.class_indices"
   ]
  },
  {
   "cell_type": "code",
   "execution_count": 17,
   "metadata": {},
   "outputs": [],
   "source": [
    "model.compile(loss = 'categorical_crossentropy', optimizer = 'adam', metrics = ['accuracy'])"
   ]
  },
  {
   "cell_type": "markdown",
   "metadata": {},
   "source": [
    "Fitting the data"
   ]
  },
  {
   "cell_type": "code",
   "execution_count": 21,
   "metadata": {},
   "outputs": [
    {
     "name": "stdout",
     "output_type": "stream",
     "text": [
      "Epoch 1/150\n",
      "100/100 [==============================] - 52s 515ms/step - loss: 0.4196 - accuracy: 0.8438 - val_loss: 632.4312 - val_accuracy: 0.3189\n",
      "Epoch 2/150\n",
      "100/100 [==============================] - 38s 380ms/step - loss: 0.4579 - accuracy: 0.8292 - val_loss: 1589.8031 - val_accuracy: 0.2817\n",
      "Epoch 3/150\n",
      "100/100 [==============================] - 34s 343ms/step - loss: 0.4448 - accuracy: 0.8361 - val_loss: 846.5886 - val_accuracy: 0.2848\n",
      "Epoch 4/150\n",
      "100/100 [==============================] - 33s 335ms/step - loss: 0.4383 - accuracy: 0.8414 - val_loss: 234.6223 - val_accuracy: 0.3173\n",
      "Epoch 5/150\n",
      "100/100 [==============================] - 33s 326ms/step - loss: 0.4351 - accuracy: 0.8344 - val_loss: 683.5226 - val_accuracy: 0.2817\n",
      "Epoch 6/150\n",
      "100/100 [==============================] - 33s 331ms/step - loss: 0.4325 - accuracy: 0.8467 - val_loss: 783.6555 - val_accuracy: 0.2941\n",
      "Epoch 7/150\n",
      "100/100 [==============================] - 33s 327ms/step - loss: 0.4267 - accuracy: 0.8464 - val_loss: 861.1397 - val_accuracy: 0.2926\n",
      "Epoch 8/150\n",
      "100/100 [==============================] - 33s 327ms/step - loss: 0.4466 - accuracy: 0.8438 - val_loss: 541.6468 - val_accuracy: 0.3111\n",
      "Epoch 9/150\n",
      "100/100 [==============================] - 33s 327ms/step - loss: 0.4116 - accuracy: 0.8511 - val_loss: 794.8035 - val_accuracy: 0.2585\n",
      "Epoch 10/150\n",
      "100/100 [==============================] - 34s 337ms/step - loss: 0.4312 - accuracy: 0.8435 - val_loss: 1729.0695 - val_accuracy: 0.3111\n",
      "Epoch 11/150\n",
      "100/100 [==============================] - 33s 331ms/step - loss: 0.4258 - accuracy: 0.8436 - val_loss: 863.0413 - val_accuracy: 0.2663\n",
      "Epoch 12/150\n",
      "100/100 [==============================] - 34s 336ms/step - loss: 0.4374 - accuracy: 0.8433 - val_loss: 1240.1522 - val_accuracy: 0.3375\n",
      "Epoch 13/150\n",
      "100/100 [==============================] - 33s 327ms/step - loss: 0.4346 - accuracy: 0.8397 - val_loss: 79.4902 - val_accuracy: 0.2972\n",
      "Epoch 14/150\n",
      "100/100 [==============================] - 33s 327ms/step - loss: 0.3925 - accuracy: 0.8538 - val_loss: 1782.3047 - val_accuracy: 0.2802\n",
      "Epoch 15/150\n",
      "100/100 [==============================] - 33s 328ms/step - loss: 0.4383 - accuracy: 0.8377 - val_loss: 965.8015 - val_accuracy: 0.3545\n",
      "Epoch 16/150\n",
      "100/100 [==============================] - 33s 331ms/step - loss: 0.4360 - accuracy: 0.8405 - val_loss: 765.5622 - val_accuracy: 0.3158\n",
      "Epoch 17/150\n",
      "100/100 [==============================] - 33s 328ms/step - loss: 0.4266 - accuracy: 0.8450 - val_loss: 594.7219 - val_accuracy: 0.3266\n",
      "Epoch 18/150\n",
      "100/100 [==============================] - 34s 339ms/step - loss: 0.4273 - accuracy: 0.8461 - val_loss: 371.1597 - val_accuracy: 0.2879\n",
      "Epoch 19/150\n",
      "100/100 [==============================] - 33s 330ms/step - loss: 0.3949 - accuracy: 0.8579 - val_loss: 1230.5925 - val_accuracy: 0.2817\n",
      "Epoch 20/150\n",
      "100/100 [==============================] - 33s 327ms/step - loss: 0.4260 - accuracy: 0.8492 - val_loss: 1282.5479 - val_accuracy: 0.3591\n",
      "Epoch 21/150\n",
      "100/100 [==============================] - 33s 328ms/step - loss: 0.4257 - accuracy: 0.8411 - val_loss: 1232.4865 - val_accuracy: 0.3065\n",
      "Epoch 22/150\n",
      "100/100 [==============================] - 33s 327ms/step - loss: 0.4137 - accuracy: 0.8433 - val_loss: 849.7285 - val_accuracy: 0.2848\n",
      "Epoch 23/150\n",
      "100/100 [==============================] - 33s 326ms/step - loss: 0.4481 - accuracy: 0.8411 - val_loss: 1031.9237 - val_accuracy: 0.2926\n",
      "Epoch 24/150\n",
      "100/100 [==============================] - 33s 330ms/step - loss: 0.4256 - accuracy: 0.8417 - val_loss: 883.3782 - val_accuracy: 0.2972\n",
      "Epoch 25/150\n",
      "100/100 [==============================] - 34s 343ms/step - loss: 0.4179 - accuracy: 0.8489 - val_loss: 636.1671 - val_accuracy: 0.2678\n",
      "Epoch 26/150\n",
      "100/100 [==============================] - 33s 330ms/step - loss: 0.4113 - accuracy: 0.8470 - val_loss: 903.7525 - val_accuracy: 0.2755\n",
      "Epoch 27/150\n",
      "100/100 [==============================] - 33s 328ms/step - loss: 0.4205 - accuracy: 0.8447 - val_loss: 1327.7878 - val_accuracy: 0.2941\n",
      "Epoch 28/150\n",
      "100/100 [==============================] - 33s 327ms/step - loss: 0.4252 - accuracy: 0.8464 - val_loss: 1632.4764 - val_accuracy: 0.2755\n",
      "Epoch 29/150\n",
      "100/100 [==============================] - 33s 329ms/step - loss: 0.4145 - accuracy: 0.8560 - val_loss: 906.4684 - val_accuracy: 0.2910\n",
      "Epoch 30/150\n",
      "100/100 [==============================] - 33s 330ms/step - loss: 0.4026 - accuracy: 0.8546 - val_loss: 545.5505 - val_accuracy: 0.2988\n",
      "Epoch 31/150\n",
      "100/100 [==============================] - 33s 329ms/step - loss: 0.4163 - accuracy: 0.8477 - val_loss: 1126.0146 - val_accuracy: 0.3127\n",
      "Epoch 32/150\n",
      "100/100 [==============================] - 33s 327ms/step - loss: 0.4221 - accuracy: 0.8370 - val_loss: 1062.7909 - val_accuracy: 0.3127\n",
      "Epoch 33/150\n",
      "100/100 [==============================] - 34s 336ms/step - loss: 0.4236 - accuracy: 0.8469 - val_loss: 792.6690 - val_accuracy: 0.3282\n",
      "Epoch 34/150\n",
      "100/100 [==============================] - 33s 330ms/step - loss: 0.3949 - accuracy: 0.8611 - val_loss: 728.7869 - val_accuracy: 0.3204\n",
      "Epoch 35/150\n",
      "100/100 [==============================] - 33s 328ms/step - loss: 0.3926 - accuracy: 0.8561 - val_loss: 317.7505 - val_accuracy: 0.2957\n",
      "Epoch 36/150\n",
      "100/100 [==============================] - 33s 329ms/step - loss: 0.3650 - accuracy: 0.8616 - val_loss: 1017.0351 - val_accuracy: 0.3127\n",
      "Epoch 37/150\n",
      "100/100 [==============================] - 33s 329ms/step - loss: 0.4045 - accuracy: 0.8514 - val_loss: 1059.6132 - val_accuracy: 0.2539\n",
      "Epoch 38/150\n",
      "100/100 [==============================] - 33s 327ms/step - loss: 0.3973 - accuracy: 0.8569 - val_loss: 2537.9548 - val_accuracy: 0.2864\n",
      "Epoch 39/150\n",
      "100/100 [==============================] - 34s 342ms/step - loss: 0.4234 - accuracy: 0.8439 - val_loss: 822.3148 - val_accuracy: 0.2632\n",
      "Epoch 40/150\n",
      "100/100 [==============================] - 34s 340ms/step - loss: 0.3655 - accuracy: 0.8607 - val_loss: 1915.5021 - val_accuracy: 0.2740\n",
      "Epoch 41/150\n",
      "100/100 [==============================] - 36s 360ms/step - loss: 0.4145 - accuracy: 0.8492 - val_loss: 961.3615 - val_accuracy: 0.3003\n",
      "Epoch 42/150\n",
      "100/100 [==============================] - 35s 346ms/step - loss: 0.3822 - accuracy: 0.8608 - val_loss: 1268.9755 - val_accuracy: 0.2864\n",
      "Epoch 43/150\n",
      "100/100 [==============================] - 33s 335ms/step - loss: 0.3976 - accuracy: 0.8604 - val_loss: 582.1188 - val_accuracy: 0.3204\n",
      "Epoch 44/150\n",
      "100/100 [==============================] - 33s 333ms/step - loss: 0.3769 - accuracy: 0.8624 - val_loss: 1194.1945 - val_accuracy: 0.3019\n",
      "Epoch 45/150\n",
      "100/100 [==============================] - 33s 329ms/step - loss: 0.4084 - accuracy: 0.8561 - val_loss: 66.1085 - val_accuracy: 0.3266\n",
      "Epoch 46/150\n",
      "100/100 [==============================] - 33s 331ms/step - loss: 0.3874 - accuracy: 0.8560 - val_loss: 483.1769 - val_accuracy: 0.3344\n",
      "Epoch 47/150\n",
      "100/100 [==============================] - 34s 336ms/step - loss: 0.4020 - accuracy: 0.8519 - val_loss: 1297.4606 - val_accuracy: 0.2988\n",
      "Epoch 48/150\n",
      "100/100 [==============================] - 34s 342ms/step - loss: 0.3538 - accuracy: 0.8702 - val_loss: 346.2322 - val_accuracy: 0.3050\n",
      "Epoch 49/150\n",
      "100/100 [==============================] - 35s 346ms/step - loss: 0.4126 - accuracy: 0.8508 - val_loss: 992.6953 - val_accuracy: 0.2833\n",
      "Epoch 50/150\n",
      "100/100 [==============================] - 32s 323ms/step - loss: 0.4264 - accuracy: 0.8475 - val_loss: 506.4213 - val_accuracy: 0.2709\n",
      "Epoch 51/150\n",
      "100/100 [==============================] - 32s 324ms/step - loss: 0.3977 - accuracy: 0.8536 - val_loss: 971.4537 - val_accuracy: 0.3220\n",
      "Epoch 52/150\n",
      "100/100 [==============================] - 34s 339ms/step - loss: 0.4039 - accuracy: 0.8550 - val_loss: 69.7749 - val_accuracy: 0.2601\n",
      "Epoch 53/150\n",
      "100/100 [==============================] - 33s 328ms/step - loss: 0.4311 - accuracy: 0.8469 - val_loss: 817.7902 - val_accuracy: 0.2802\n",
      "Epoch 54/150\n",
      "100/100 [==============================] - 33s 327ms/step - loss: 0.3962 - accuracy: 0.8550 - val_loss: 1258.8456 - val_accuracy: 0.2879\n",
      "Epoch 55/150\n",
      "100/100 [==============================] - 33s 328ms/step - loss: 0.4245 - accuracy: 0.8546 - val_loss: 247.5574 - val_accuracy: 0.2864\n"
     ]
    },
    {
     "name": "stdout",
     "output_type": "stream",
     "text": [
      "Epoch 56/150\n",
      "100/100 [==============================] - 33s 330ms/step - loss: 0.4109 - accuracy: 0.8516 - val_loss: 318.7535 - val_accuracy: 0.2786\n",
      "Epoch 57/150\n",
      "100/100 [==============================] - 33s 332ms/step - loss: 0.4032 - accuracy: 0.8555 - val_loss: 672.4439 - val_accuracy: 0.2693\n",
      "Epoch 58/150\n",
      "100/100 [==============================] - 32s 324ms/step - loss: 0.3558 - accuracy: 0.8738 - val_loss: 909.3205 - val_accuracy: 0.2337\n",
      "Epoch 59/150\n",
      "100/100 [==============================] - 32s 324ms/step - loss: 0.3875 - accuracy: 0.8567 - val_loss: 491.6405 - val_accuracy: 0.3050\n",
      "Epoch 60/150\n",
      "100/100 [==============================] - 33s 326ms/step - loss: 0.3931 - accuracy: 0.8560 - val_loss: 442.7342 - val_accuracy: 0.2771\n",
      "Epoch 61/150\n",
      "100/100 [==============================] - 33s 326ms/step - loss: 0.4147 - accuracy: 0.8477 - val_loss: 1736.2759 - val_accuracy: 0.2786\n",
      "Epoch 62/150\n",
      "100/100 [==============================] - 33s 325ms/step - loss: 0.3857 - accuracy: 0.8594 - val_loss: 1705.0348 - val_accuracy: 0.2972\n",
      "Epoch 63/150\n",
      "100/100 [==============================] - 32s 324ms/step - loss: 0.3905 - accuracy: 0.8589 - val_loss: 904.5479 - val_accuracy: 0.2771\n",
      "Epoch 64/150\n",
      "100/100 [==============================] - 32s 324ms/step - loss: 0.3614 - accuracy: 0.8702 - val_loss: 877.9373 - val_accuracy: 0.2771\n",
      "Epoch 65/150\n",
      "100/100 [==============================] - 32s 325ms/step - loss: 0.3820 - accuracy: 0.8639 - val_loss: 956.6270 - val_accuracy: 0.3080\n",
      "Epoch 66/150\n",
      "100/100 [==============================] - 32s 323ms/step - loss: 0.3426 - accuracy: 0.8738 - val_loss: 626.2063 - val_accuracy: 0.2523\n",
      "Epoch 67/150\n",
      "100/100 [==============================] - 32s 324ms/step - loss: 0.3943 - accuracy: 0.8627 - val_loss: 867.6772 - val_accuracy: 0.3096\n",
      "Epoch 68/150\n",
      "100/100 [==============================] - 32s 324ms/step - loss: 0.3688 - accuracy: 0.8705 - val_loss: 621.4897 - val_accuracy: 0.2972\n",
      "Epoch 69/150\n",
      "100/100 [==============================] - 32s 325ms/step - loss: 0.4148 - accuracy: 0.8478 - val_loss: 733.9949 - val_accuracy: 0.2895\n",
      "Epoch 70/150\n",
      "100/100 [==============================] - 32s 324ms/step - loss: 0.3882 - accuracy: 0.8614 - val_loss: 315.8575 - val_accuracy: 0.3080\n",
      "Epoch 71/150\n",
      "100/100 [==============================] - 33s 327ms/step - loss: 0.3932 - accuracy: 0.8636 - val_loss: 573.9370 - val_accuracy: 0.2755\n",
      "Epoch 72/150\n",
      "100/100 [==============================] - 33s 328ms/step - loss: 0.4019 - accuracy: 0.8522 - val_loss: 933.5204 - val_accuracy: 0.3282\n",
      "Epoch 73/150\n",
      "100/100 [==============================] - 33s 325ms/step - loss: 0.3533 - accuracy: 0.8707 - val_loss: 1150.7369 - val_accuracy: 0.3080\n",
      "Epoch 74/150\n",
      "100/100 [==============================] - 33s 330ms/step - loss: 0.3822 - accuracy: 0.8659 - val_loss: 1177.1556 - val_accuracy: 0.2833\n",
      "Epoch 75/150\n",
      "100/100 [==============================] - 33s 325ms/step - loss: 0.3916 - accuracy: 0.8587 - val_loss: 944.6921 - val_accuracy: 0.2740\n",
      "Epoch 76/150\n",
      "100/100 [==============================] - 33s 330ms/step - loss: 0.3647 - accuracy: 0.8711 - val_loss: 2326.2117 - val_accuracy: 0.3050\n",
      "Epoch 77/150\n",
      "100/100 [==============================] - 32s 321ms/step - loss: 0.3658 - accuracy: 0.8642 - val_loss: 627.9921 - val_accuracy: 0.2864\n",
      "Epoch 78/150\n",
      "100/100 [==============================] - 33s 328ms/step - loss: 0.4039 - accuracy: 0.8558 - val_loss: 942.7029 - val_accuracy: 0.3158\n",
      "Epoch 79/150\n",
      "100/100 [==============================] - 33s 332ms/step - loss: 0.3655 - accuracy: 0.8707 - val_loss: 453.1224 - val_accuracy: 0.2910\n",
      "Epoch 80/150\n",
      "100/100 [==============================] - 33s 327ms/step - loss: 0.3608 - accuracy: 0.8764 - val_loss: 1150.8392 - val_accuracy: 0.3050\n",
      "Epoch 81/150\n",
      "100/100 [==============================] - 32s 323ms/step - loss: 0.3512 - accuracy: 0.8745 - val_loss: 879.0871 - val_accuracy: 0.3019\n",
      "Epoch 82/150\n",
      "100/100 [==============================] - 32s 324ms/step - loss: 0.3918 - accuracy: 0.8599 - val_loss: 1553.5814 - val_accuracy: 0.2972\n",
      "Epoch 83/150\n",
      "100/100 [==============================] - 33s 326ms/step - loss: 0.3851 - accuracy: 0.8608 - val_loss: 219.9111 - val_accuracy: 0.3080\n",
      "Epoch 84/150\n",
      "100/100 [==============================] - 32s 323ms/step - loss: 0.3889 - accuracy: 0.8607 - val_loss: 382.9072 - val_accuracy: 0.3313\n",
      "Epoch 85/150\n",
      "100/100 [==============================] - 32s 325ms/step - loss: 0.3588 - accuracy: 0.8746 - val_loss: 1347.5111 - val_accuracy: 0.2848\n",
      "Epoch 86/150\n",
      "100/100 [==============================] - 33s 326ms/step - loss: 0.3434 - accuracy: 0.8751 - val_loss: 1218.6644 - val_accuracy: 0.3189\n",
      "Epoch 87/150\n",
      "100/100 [==============================] - 32s 324ms/step - loss: 0.3410 - accuracy: 0.8789 - val_loss: 1283.6880 - val_accuracy: 0.2848\n",
      "Epoch 88/150\n",
      "100/100 [==============================] - 32s 324ms/step - loss: 0.3942 - accuracy: 0.8567 - val_loss: 722.2583 - val_accuracy: 0.2879\n",
      "Epoch 89/150\n",
      "100/100 [==============================] - 32s 322ms/step - loss: 0.3849 - accuracy: 0.8597 - val_loss: 1031.4247 - val_accuracy: 0.2848\n",
      "Epoch 90/150\n",
      "100/100 [==============================] - 44s 435ms/step - loss: 0.3790 - accuracy: 0.8674 - val_loss: 593.9512 - val_accuracy: 0.2895\n",
      "Epoch 91/150\n",
      "100/100 [==============================] - 42s 420ms/step - loss: 0.3327 - accuracy: 0.8768 - val_loss: 1316.4523 - val_accuracy: 0.2941\n",
      "Epoch 92/150\n",
      "100/100 [==============================] - 38s 384ms/step - loss: 0.3653 - accuracy: 0.8679 - val_loss: 594.4583 - val_accuracy: 0.3158\n",
      "Epoch 93/150\n",
      "100/100 [==============================] - 35s 349ms/step - loss: 0.3532 - accuracy: 0.8735 - val_loss: 188.1797 - val_accuracy: 0.3204\n",
      "Epoch 94/150\n",
      "100/100 [==============================] - 33s 333ms/step - loss: 0.3966 - accuracy: 0.8606 - val_loss: 1514.8395 - val_accuracy: 0.2879\n",
      "Epoch 95/150\n",
      "100/100 [==============================] - 36s 358ms/step - loss: 0.3505 - accuracy: 0.8770 - val_loss: 952.1541 - val_accuracy: 0.2833\n",
      "Epoch 96/150\n",
      "100/100 [==============================] - 34s 344ms/step - loss: 0.3805 - accuracy: 0.8688 - val_loss: 729.2763 - val_accuracy: 0.3019\n",
      "Epoch 97/150\n",
      "100/100 [==============================] - 33s 331ms/step - loss: 0.3783 - accuracy: 0.8674 - val_loss: 1073.3209 - val_accuracy: 0.3003\n",
      "Epoch 98/150\n",
      "100/100 [==============================] - 33s 330ms/step - loss: 0.3819 - accuracy: 0.8611 - val_loss: 940.7768 - val_accuracy: 0.2910\n",
      "Epoch 99/150\n",
      "100/100 [==============================] - 35s 347ms/step - loss: 0.3327 - accuracy: 0.8820 - val_loss: 1482.2002 - val_accuracy: 0.2988\n",
      "Epoch 100/150\n",
      "100/100 [==============================] - 34s 337ms/step - loss: 0.3454 - accuracy: 0.8836 - val_loss: 666.2087 - val_accuracy: 0.3204\n",
      "Epoch 101/150\n",
      "100/100 [==============================] - 37s 371ms/step - loss: 0.3591 - accuracy: 0.8680 - val_loss: 1255.6438 - val_accuracy: 0.2802\n",
      "Epoch 102/150\n",
      "100/100 [==============================] - 39s 391ms/step - loss: 0.3756 - accuracy: 0.8673 - val_loss: 945.6343 - val_accuracy: 0.2601\n",
      "Epoch 103/150\n",
      "100/100 [==============================] - 33s 334ms/step - loss: 0.3458 - accuracy: 0.8777 - val_loss: 692.9033 - val_accuracy: 0.3158\n",
      "Epoch 104/150\n",
      "100/100 [==============================] - 33s 331ms/step - loss: 0.3395 - accuracy: 0.8751 - val_loss: 1080.9916 - val_accuracy: 0.3034\n",
      "Epoch 105/150\n",
      "100/100 [==============================] - 33s 334ms/step - loss: 0.3392 - accuracy: 0.8761 - val_loss: 647.5915 - val_accuracy: 0.2972\n",
      "Epoch 106/150\n",
      "100/100 [==============================] - 35s 345ms/step - loss: 0.3823 - accuracy: 0.8652 - val_loss: 540.2021 - val_accuracy: 0.3282\n",
      "Epoch 107/150\n",
      "100/100 [==============================] - 34s 337ms/step - loss: 0.3513 - accuracy: 0.8739 - val_loss: 601.2054 - val_accuracy: 0.3019\n",
      "Epoch 108/150\n",
      "100/100 [==============================] - 32s 324ms/step - loss: 0.3746 - accuracy: 0.8698 - val_loss: 1986.7101 - val_accuracy: 0.2663\n",
      "Epoch 109/150\n",
      "100/100 [==============================] - 37s 368ms/step - loss: 0.3653 - accuracy: 0.8729 - val_loss: 1024.6193 - val_accuracy: 0.3158\n",
      "Epoch 110/150\n",
      "100/100 [==============================] - 33s 331ms/step - loss: 0.3451 - accuracy: 0.8743 - val_loss: 425.2490 - val_accuracy: 0.2817\n"
     ]
    },
    {
     "name": "stdout",
     "output_type": "stream",
     "text": [
      "Epoch 111/150\n",
      "100/100 [==============================] - 35s 348ms/step - loss: 0.3776 - accuracy: 0.8677 - val_loss: 324.6514 - val_accuracy: 0.3282\n",
      "Epoch 112/150\n",
      "100/100 [==============================] - 34s 343ms/step - loss: 0.3499 - accuracy: 0.8718 - val_loss: 1166.7036 - val_accuracy: 0.2848\n",
      "Epoch 113/150\n",
      "100/100 [==============================] - 36s 357ms/step - loss: 0.3497 - accuracy: 0.8729 - val_loss: 972.2929 - val_accuracy: 0.3158\n",
      "Epoch 114/150\n",
      "100/100 [==============================] - 37s 367ms/step - loss: 0.3536 - accuracy: 0.8752 - val_loss: 2102.2998 - val_accuracy: 0.2833\n",
      "Epoch 115/150\n",
      "100/100 [==============================] - 38s 384ms/step - loss: 0.3430 - accuracy: 0.8733 - val_loss: 555.8254 - val_accuracy: 0.2755\n",
      "Epoch 116/150\n",
      "100/100 [==============================] - 43s 429ms/step - loss: 0.3567 - accuracy: 0.8723 - val_loss: 1539.4591 - val_accuracy: 0.3065\n",
      "Epoch 117/150\n",
      "100/100 [==============================] - 40s 397ms/step - loss: 0.3948 - accuracy: 0.8622 - val_loss: 824.1685 - val_accuracy: 0.3158\n",
      "Epoch 118/150\n",
      "100/100 [==============================] - 38s 377ms/step - loss: 0.3824 - accuracy: 0.8668 - val_loss: 2435.9011 - val_accuracy: 0.3096\n",
      "Epoch 119/150\n",
      "100/100 [==============================] - 37s 368ms/step - loss: 0.3324 - accuracy: 0.8805 - val_loss: 1336.7208 - val_accuracy: 0.3235\n",
      "Epoch 120/150\n",
      "100/100 [==============================] - 38s 377ms/step - loss: 0.3455 - accuracy: 0.8788 - val_loss: 2683.0566 - val_accuracy: 0.2941\n",
      "Epoch 121/150\n",
      "100/100 [==============================] - 35s 347ms/step - loss: 0.3527 - accuracy: 0.8746 - val_loss: 638.7766 - val_accuracy: 0.3080\n",
      "Epoch 122/150\n",
      "100/100 [==============================] - 33s 329ms/step - loss: 0.3373 - accuracy: 0.8791 - val_loss: 2558.9324 - val_accuracy: 0.2988\n",
      "Epoch 123/150\n",
      "100/100 [==============================] - 34s 342ms/step - loss: 0.3783 - accuracy: 0.8619 - val_loss: 1937.5332 - val_accuracy: 0.2740\n",
      "Epoch 124/150\n",
      "100/100 [==============================] - 36s 358ms/step - loss: 0.3661 - accuracy: 0.8669 - val_loss: 508.8645 - val_accuracy: 0.3313\n",
      "Epoch 125/150\n",
      "100/100 [==============================] - 36s 362ms/step - loss: 0.3577 - accuracy: 0.8694 - val_loss: 882.1655 - val_accuracy: 0.3545\n",
      "Epoch 126/150\n",
      "100/100 [==============================] - 34s 337ms/step - loss: 0.3546 - accuracy: 0.8696 - val_loss: 1341.0773 - val_accuracy: 0.3251\n",
      "Epoch 127/150\n",
      "100/100 [==============================] - 34s 343ms/step - loss: 0.3237 - accuracy: 0.8867 - val_loss: 915.4497 - val_accuracy: 0.2755\n",
      "Epoch 128/150\n",
      "100/100 [==============================] - 37s 367ms/step - loss: 0.3747 - accuracy: 0.8652 - val_loss: 1597.9561 - val_accuracy: 0.3034\n",
      "Epoch 129/150\n",
      "100/100 [==============================] - 38s 379ms/step - loss: 0.3541 - accuracy: 0.8738 - val_loss: 1053.7177 - val_accuracy: 0.3034\n",
      "Epoch 130/150\n",
      "100/100 [==============================] - 39s 392ms/step - loss: 0.3532 - accuracy: 0.8731 - val_loss: 878.8679 - val_accuracy: 0.3282\n",
      "Epoch 131/150\n",
      "100/100 [==============================] - 37s 369ms/step - loss: 0.3251 - accuracy: 0.8813 - val_loss: 1922.9102 - val_accuracy: 0.3235\n",
      "Epoch 132/150\n",
      "100/100 [==============================] - 36s 358ms/step - loss: 0.3563 - accuracy: 0.8741 - val_loss: 1348.5234 - val_accuracy: 0.2941\n",
      "Epoch 133/150\n",
      "100/100 [==============================] - 33s 333ms/step - loss: 0.3206 - accuracy: 0.8811 - val_loss: 3128.8728 - val_accuracy: 0.2833\n",
      "Epoch 134/150\n",
      "100/100 [==============================] - 33s 334ms/step - loss: 0.3705 - accuracy: 0.8599 - val_loss: 554.5177 - val_accuracy: 0.2988\n",
      "Epoch 135/150\n",
      "100/100 [==============================] - 32s 322ms/step - loss: 0.3247 - accuracy: 0.8901 - val_loss: 1223.0531 - val_accuracy: 0.3204\n",
      "Epoch 136/150\n",
      "100/100 [==============================] - 33s 334ms/step - loss: 0.3363 - accuracy: 0.8746 - val_loss: 733.3211 - val_accuracy: 0.3173\n",
      "Epoch 137/150\n",
      "100/100 [==============================] - 34s 344ms/step - loss: 0.3103 - accuracy: 0.8877 - val_loss: 960.1767 - val_accuracy: 0.2802\n",
      "Epoch 138/150\n",
      "100/100 [==============================] - 34s 341ms/step - loss: 0.3360 - accuracy: 0.8823 - val_loss: 1688.0151 - val_accuracy: 0.2771\n",
      "Epoch 139/150\n",
      "100/100 [==============================] - 33s 329ms/step - loss: 0.3555 - accuracy: 0.8714 - val_loss: 1551.7098 - val_accuracy: 0.2740\n",
      "Epoch 140/150\n",
      "100/100 [==============================] - 34s 337ms/step - loss: 0.3249 - accuracy: 0.8804 - val_loss: 3091.0447 - val_accuracy: 0.2632\n",
      "Epoch 141/150\n",
      "100/100 [==============================] - 36s 356ms/step - loss: 0.2926 - accuracy: 0.8899 - val_loss: 2791.4678 - val_accuracy: 0.2693\n",
      "Epoch 142/150\n",
      "100/100 [==============================] - 38s 377ms/step - loss: 0.3276 - accuracy: 0.8871 - val_loss: 1899.5161 - val_accuracy: 0.2864\n",
      "Epoch 143/150\n",
      "100/100 [==============================] - 39s 386ms/step - loss: 0.3663 - accuracy: 0.8696 - val_loss: 803.2956 - val_accuracy: 0.2972\n",
      "Epoch 144/150\n",
      "100/100 [==============================] - 36s 356ms/step - loss: 0.3565 - accuracy: 0.8788 - val_loss: 627.0853 - val_accuracy: 0.3235\n",
      "Epoch 145/150\n",
      "100/100 [==============================] - 36s 361ms/step - loss: 0.3528 - accuracy: 0.8730 - val_loss: 1107.1814 - val_accuracy: 0.2879\n",
      "Epoch 146/150\n",
      "100/100 [==============================] - 34s 341ms/step - loss: 0.3380 - accuracy: 0.8770 - val_loss: 848.9399 - val_accuracy: 0.3142\n",
      "Epoch 147/150\n",
      "100/100 [==============================] - 36s 357ms/step - loss: 0.3250 - accuracy: 0.8849 - val_loss: 1008.3716 - val_accuracy: 0.2957\n",
      "Epoch 148/150\n",
      "100/100 [==============================] - 38s 379ms/step - loss: 0.3174 - accuracy: 0.8918 - val_loss: 2563.8589 - val_accuracy: 0.2693\n",
      "Epoch 149/150\n",
      "100/100 [==============================] - 35s 348ms/step - loss: 0.3121 - accuracy: 0.8895 - val_loss: 1221.7111 - val_accuracy: 0.3019\n",
      "Epoch 150/150\n",
      "100/100 [==============================] - 37s 370ms/step - loss: 0.3752 - accuracy: 0.8683 - val_loss: 1469.2067 - val_accuracy: 0.3142\n"
     ]
    },
    {
     "data": {
      "text/plain": [
       "<keras.callbacks.callbacks.History at 0x24f6f45d2c8>"
      ]
     },
     "execution_count": 21,
     "metadata": {},
     "output_type": "execute_result"
    }
   ],
   "source": [
    "model.fit_generator(x_train, steps_per_epoch =100, epochs = 150, validation_data = x_test, validation_steps = 63)"
   ]
  },
  {
   "cell_type": "markdown",
   "metadata": {},
   "source": [
    "Saving the model"
   ]
  },
  {
   "cell_type": "code",
   "execution_count": 22,
   "metadata": {},
   "outputs": [],
   "source": [
    "model.save(\"Skin_Diseases.h5\")"
   ]
  },
  {
   "cell_type": "code",
   "execution_count": null,
   "metadata": {},
   "outputs": [],
   "source": []
  },
  {
   "cell_type": "code",
   "execution_count": null,
   "metadata": {},
   "outputs": [],
   "source": []
  }
 ],
 "metadata": {
  "kernelspec": {
   "display_name": "Python 3",
   "language": "python",
   "name": "python3"
  },
  "language_info": {
   "codemirror_mode": {
    "name": "ipython",
    "version": 3
   },
   "file_extension": ".py",
   "mimetype": "text/x-python",
   "name": "python",
   "nbconvert_exporter": "python",
   "pygments_lexer": "ipython3",
   "version": "3.7.4"
  }
 },
 "nbformat": 4,
 "nbformat_minor": 2
}
